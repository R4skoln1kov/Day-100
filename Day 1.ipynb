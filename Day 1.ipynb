{
 "cells": [
  {
   "cell_type": "markdown",
   "metadata": {},
   "source": [
    "# Day 1"
   ]
  },
  {
   "cell_type": "code",
   "execution_count": 12,
   "metadata": {},
   "outputs": [],
   "source": [
    "def hanoi(size=3,left='left', right='right', middle='middle'):\n",
    "    if size:\n",
    "        hanoi(size - 1, left, middle, right)\n",
    "        print(left + \" ===> \" + right)\n",
    "        hanoi(size - 1, middle, right, left)"
   ]
  },
  {
   "cell_type": "code",
   "execution_count": 11,
   "metadata": {},
   "outputs": [
    {
     "name": "stdout",
     "output_type": "stream",
     "text": [
      "left ===> middle\n",
      "left ===> right\n",
      "middle ===> right\n",
      "left ===> middle\n",
      "right ===> left\n",
      "right ===> middle\n",
      "left ===> middle\n",
      "left ===> right\n",
      "middle ===> right\n",
      "middle ===> left\n",
      "right ===> left\n",
      "middle ===> right\n",
      "left ===> middle\n",
      "left ===> right\n",
      "middle ===> right\n"
     ]
    }
   ],
   "source": [
    "hanoi(4)"
   ]
  }
 ],
 "metadata": {
  "kernelspec": {
   "display_name": "Python 3",
   "language": "python",
   "name": "python3"
  },
  "language_info": {
   "codemirror_mode": {
    "name": "ipython",
    "version": 3
   },
   "file_extension": ".py",
   "mimetype": "text/x-python",
   "name": "python",
   "nbconvert_exporter": "python",
   "pygments_lexer": "ipython3",
   "version": "3.7.3"
  }
 },
 "nbformat": 4,
 "nbformat_minor": 2
}
