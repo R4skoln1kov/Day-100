{
 "cells": [
  {
   "cell_type": "markdown",
   "metadata": {},
   "source": [
    "# Day 6\n",
    "\n",
    "## Postfix notation"
   ]
  },
  {
   "cell_type": "code",
   "execution_count": 8,
   "metadata": {},
   "outputs": [],
   "source": [
    "operators = {\"+\": int.__add__,\n",
    "             \"-\": int.__sub__,\n",
    "             \"*\": int.__mul__,\n",
    "             \"/\": int.__truediv__,\n",
    "             \"^\": int.__pow__}\n",
    "\n",
    "def postifix(calculation):\n",
    "    numb = []\n",
    "    for char in calculation.split():\n",
    "        if char in operators:\n",
    "            x = operators[char](numb.pop(-2), numb.pop(-1))\n",
    "        else:\n",
    "            x = int(char)\n",
    "        numb.append(x)\n",
    "    return numb.pop()"
   ]
  },
  {
   "cell_type": "code",
   "execution_count": 9,
   "metadata": {},
   "outputs": [
    {
     "data": {
      "text/plain": [
       "8"
      ]
     },
     "execution_count": 9,
     "metadata": {},
     "output_type": "execute_result"
    }
   ],
   "source": [
    "postifix('2 1 3 + *')"
   ]
  },
  {
   "cell_type": "code",
   "execution_count": null,
   "metadata": {},
   "outputs": [],
   "source": []
  }
 ],
 "metadata": {
  "kernelspec": {
   "display_name": "Python 3",
   "language": "python",
   "name": "python3"
  },
  "language_info": {
   "codemirror_mode": {
    "name": "ipython",
    "version": 3
   },
   "file_extension": ".py",
   "mimetype": "text/x-python",
   "name": "python",
   "nbconvert_exporter": "python",
   "pygments_lexer": "ipython3",
   "version": "3.7.3"
  }
 },
 "nbformat": 4,
 "nbformat_minor": 2
}
