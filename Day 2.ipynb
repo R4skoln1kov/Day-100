{
 "cells": [
  {
   "cell_type": "markdown",
   "metadata": {},
   "source": [
    "# Day 2\n",
    "\n",
    "## Matrix Chain Multiplication using Dynamic Programming Formula\n",
    "\n",
    "<b> <a href=\"https://www.youtube.com/watch?v=_WncuhSJZyA\"> Helped a lot!!</a> </b>\n",
    "\n",
    "` 1 2 3 4  \n",
    "1 0 1 1 1\n",
    "2 0 0 1 1\n",
    "3 0 0 0 1\n",
    "4 0 0 0 0`\n",
    "<br>\n",
    "Matrix\\[ 4 \\]\\[ 4 \\] format:<br>\n",
    "1 => value != 0 <br>\n",
    "General formula:<br>\n",
    "Min:{ c\\[ i, j \\]  = c\\[ i, k \\] + c\\[ k + 1, j \\] + D\\[ i - 1 \\] * D\\[ k \\] * D\\[ j \\] } <br>\n",
    "for: i <= k < j"
   ]
  },
  {
   "cell_type": "code",
   "execution_count": 2,
   "metadata": {},
   "outputs": [],
   "source": [
    "def mchain(matr):\n",
    "    size = len(matr) - 1\n",
    "    #Creating 0's matrix\n",
    "    aux = [[0 for i in range(size)] for i in range(size)]\n",
    "    # No need for recalculate the main diagonal\n",
    "    for lenght in range (1, size):\n",
    "        for i in range (size - lenght):\n",
    "            j = i + lenght\n",
    "            # We must give it a high number, so we can compare with something\n",
    "            aux[i][j] = float('inf')\n",
    "            for k in range(i, j):\n",
    "                temp = aux[i][k] + aux[k + 1][j]\n",
    "                temp += matr[i] * matr[k + 1] * matr[j + 1]\n",
    "                if temp < aux[i][j]:\n",
    "                    aux[i][j] = temp\n",
    "    return aux[0][size - 1]"
   ]
  },
  {
   "cell_type": "code",
   "execution_count": 3,
   "metadata": {},
   "outputs": [
    {
     "name": "stdout",
     "output_type": "stream",
     "text": [
      "58\n"
     ]
    }
   ],
   "source": [
    "print(mchain([3,2,4,2,5]))\n"
   ]
  },
  {
   "cell_type": "code",
   "execution_count": null,
   "metadata": {},
   "outputs": [],
   "source": []
  }
 ],
 "metadata": {
  "kernelspec": {
   "display_name": "Python 3",
   "language": "python",
   "name": "python3"
  },
  "language_info": {
   "codemirror_mode": {
    "name": "ipython",
    "version": 3
   },
   "file_extension": ".py",
   "mimetype": "text/x-python",
   "name": "python",
   "nbconvert_exporter": "python",
   "pygments_lexer": "ipython3",
   "version": "3.7.3"
  }
 },
 "nbformat": 4,
 "nbformat_minor": 2
}
