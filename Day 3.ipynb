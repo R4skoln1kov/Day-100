{
 "cells": [
  {
   "cell_type": "markdown",
   "metadata": {},
   "source": [
    "# Day 3\n",
    "\n",
    "## Next permutation\n",
    "\n",
    "Is better to use reversed() than playing around with range().<br>\n",
    "Everything gets easier :#"
   ]
  },
  {
   "cell_type": "code",
   "execution_count": 6,
   "metadata": {},
   "outputs": [],
   "source": [
    "def nperm(listOfValues):\n",
    "    size = len(listOfValues)\n",
    "    for i in reversed(range(size - 1)):\n",
    "        if listOfValues[i] < listOfValues[i + 1]:\n",
    "            break\n",
    "    else:\n",
    "        # reverse the vector\n",
    "        return listOfValues[::-1]\n",
    "    for j in reversed(range(i, size)):\n",
    "        if listOfValues[j] > listOfValues[i]:\n",
    "            listOfValues[i], listOfValues[j] = listOfValues[j], listOfValues[i]\n",
    "            listOfValues[i + 1:] = reversed(listOfValues[i+1:])\n",
    "            break\n",
    "    return listOfValues"
   ]
  },
  {
   "cell_type": "code",
   "execution_count": 7,
   "metadata": {},
   "outputs": [
    {
     "data": {
      "text/plain": [
       "[4, 3, 1, 2, 5]"
      ]
     },
     "execution_count": 7,
     "metadata": {},
     "output_type": "execute_result"
    }
   ],
   "source": [
    "nperm([4,2,5,3,1])"
   ]
  },
  {
   "cell_type": "code",
   "execution_count": null,
   "metadata": {},
   "outputs": [],
   "source": []
  }
 ],
 "metadata": {
  "kernelspec": {
   "display_name": "Python 3",
   "language": "python",
   "name": "python3"
  },
  "language_info": {
   "codemirror_mode": {
    "name": "ipython",
    "version": 3
   },
   "file_extension": ".py",
   "mimetype": "text/x-python",
   "name": "python",
   "nbconvert_exporter": "python",
   "pygments_lexer": "ipython3",
   "version": "3.7.3"
  }
 },
 "nbformat": 4,
 "nbformat_minor": 2
}
